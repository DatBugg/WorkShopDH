{
 "cells": [
  {
   "cell_type": "code",
   "execution_count": 1,
   "id": "liberal-front",
   "metadata": {},
   "outputs": [],
   "source": [
    "%config Completer.use_jedi = False"
   ]
  },
  {
   "cell_type": "code",
   "execution_count": 2,
   "id": "divided-typing",
   "metadata": {},
   "outputs": [],
   "source": [
    "import pandas as pd\n",
    "import re"
   ]
  },
  {
   "cell_type": "code",
   "execution_count": 3,
   "id": "oriented-border",
   "metadata": {},
   "outputs": [],
   "source": [
    "movies = pd.read_csv(\"movies2\", sep=\"|\")\n",
    "rating = pd.read_csv(\"rating2\", sep=\"|\")"
   ]
  },
  {
   "cell_type": "code",
   "execution_count": null,
   "id": "representative-supply",
   "metadata": {},
   "outputs": [],
   "source": []
  },
  {
   "cell_type": "code",
   "execution_count": 4,
   "id": "faced-challenge",
   "metadata": {},
   "outputs": [],
   "source": [
    "movies.drop(columns=\"Unnamed: 0\", inplace=True)"
   ]
  },
  {
   "cell_type": "code",
   "execution_count": 5,
   "id": "romance-jackson",
   "metadata": {},
   "outputs": [],
   "source": [
    "rating2 = rating.iloc[:,1:]"
   ]
  },
  {
   "cell_type": "code",
   "execution_count": 6,
   "id": "aging-archives",
   "metadata": {},
   "outputs": [],
   "source": [
    "df = movies.merge(rating2, on=\"imdb_title_id\")"
   ]
  },
  {
   "cell_type": "code",
   "execution_count": 7,
   "id": "metropolitan-transaction",
   "metadata": {},
   "outputs": [],
   "source": [
    "df.to_csv(\"modelo.csv\", sep=\"|\")"
   ]
  },
  {
   "cell_type": "code",
   "execution_count": 13,
   "id": "dated-makeup",
   "metadata": {},
   "outputs": [
    {
     "data": {
      "text/html": [
       "<div>\n",
       "<style scoped>\n",
       "    .dataframe tbody tr th:only-of-type {\n",
       "        vertical-align: middle;\n",
       "    }\n",
       "\n",
       "    .dataframe tbody tr th {\n",
       "        vertical-align: top;\n",
       "    }\n",
       "\n",
       "    .dataframe thead th {\n",
       "        text-align: right;\n",
       "    }\n",
       "</style>\n",
       "<table border=\"1\" class=\"dataframe\">\n",
       "  <thead>\n",
       "    <tr style=\"text-align: right;\">\n",
       "      <th></th>\n",
       "      <th>imdb_title_id</th>\n",
       "      <th>title</th>\n",
       "      <th>year</th>\n",
       "      <th>duration</th>\n",
       "      <th>director</th>\n",
       "      <th>production_company</th>\n",
       "      <th>description</th>\n",
       "      <th>avg_vote</th>\n",
       "      <th>votes</th>\n",
       "      <th>metascore</th>\n",
       "      <th>...</th>\n",
       "      <th>males_45age_avg_vote</th>\n",
       "      <th>males_45age_votes</th>\n",
       "      <th>females_allages_avg_vote</th>\n",
       "      <th>females_allages_votes</th>\n",
       "      <th>females_18age_avg_vote</th>\n",
       "      <th>females_18age_votes</th>\n",
       "      <th>females_30age_avg_vote</th>\n",
       "      <th>females_30age_votes</th>\n",
       "      <th>females_45age_avg_vote</th>\n",
       "      <th>females_45age_votes</th>\n",
       "    </tr>\n",
       "  </thead>\n",
       "  <tbody>\n",
       "    <tr>\n",
       "      <th>0</th>\n",
       "      <td>tt0060120</td>\n",
       "      <td>A sud ovest di Sonora</td>\n",
       "      <td>1966</td>\n",
       "      <td>98</td>\n",
       "      <td>Sidney J. Furie</td>\n",
       "      <td>Universal Pictures</td>\n",
       "      <td>Man tries to recover a horse stolen from him b...</td>\n",
       "      <td>6.3</td>\n",
       "      <td>2846</td>\n",
       "      <td>46.0</td>\n",
       "      <td>...</td>\n",
       "      <td>6.3</td>\n",
       "      <td>1072.0</td>\n",
       "      <td>6.1</td>\n",
       "      <td>241.0</td>\n",
       "      <td>6.2</td>\n",
       "      <td>30.0</td>\n",
       "      <td>6.0</td>\n",
       "      <td>93.0</td>\n",
       "      <td>6.2</td>\n",
       "      <td>114.0</td>\n",
       "    </tr>\n",
       "  </tbody>\n",
       "</table>\n",
       "<p>1 rows × 50 columns</p>\n",
       "</div>"
      ],
      "text/plain": [
       "  imdb_title_id                  title  year  duration         director  \\\n",
       "0     tt0060120  A sud ovest di Sonora  1966        98  Sidney J. Furie   \n",
       "\n",
       "   production_company                                        description  \\\n",
       "0  Universal Pictures  Man tries to recover a horse stolen from him b...   \n",
       "\n",
       "   avg_vote  votes  metascore  ...  males_45age_avg_vote  males_45age_votes  \\\n",
       "0       6.3   2846       46.0  ...                   6.3             1072.0   \n",
       "\n",
       "  females_allages_avg_vote females_allages_votes  females_18age_avg_vote  \\\n",
       "0                      6.1                 241.0                     6.2   \n",
       "\n",
       "   females_18age_votes  females_30age_avg_vote  females_30age_votes  \\\n",
       "0                 30.0                     6.0                 93.0   \n",
       "\n",
       "   females_45age_avg_vote  females_45age_votes  \n",
       "0                     6.2                114.0  \n",
       "\n",
       "[1 rows x 50 columns]"
      ]
     },
     "execution_count": 13,
     "metadata": {},
     "output_type": "execute_result"
    }
   ],
   "source": [
    "df.head(1)"
   ]
  },
  {
   "cell_type": "code",
   "execution_count": 9,
   "id": "respiratory-reynolds",
   "metadata": {},
   "outputs": [],
   "source": [
    "df[\"genre\"] = df.genre.apply(lambda x: \" \".join(x.split()))"
   ]
  },
  {
   "cell_type": "code",
   "execution_count": 10,
   "id": "injured-gamma",
   "metadata": {},
   "outputs": [],
   "source": [
    "df2 = df.merge(pd.get_dummies(df.genre, drop_first=True), left_index=True, right_index=True)"
   ]
  },
  {
   "cell_type": "code",
   "execution_count": 11,
   "id": "continued-collect",
   "metadata": {},
   "outputs": [],
   "source": [
    "df2.drop(columns=\"genre\", inplace=True)"
   ]
  },
  {
   "cell_type": "code",
   "execution_count": 14,
   "id": "bottom-winter",
   "metadata": {},
   "outputs": [
    {
     "data": {
      "text/html": [
       "<div>\n",
       "<style scoped>\n",
       "    .dataframe tbody tr th:only-of-type {\n",
       "        vertical-align: middle;\n",
       "    }\n",
       "\n",
       "    .dataframe tbody tr th {\n",
       "        vertical-align: top;\n",
       "    }\n",
       "\n",
       "    .dataframe thead th {\n",
       "        text-align: right;\n",
       "    }\n",
       "</style>\n",
       "<table border=\"1\" class=\"dataframe\">\n",
       "  <thead>\n",
       "    <tr style=\"text-align: right;\">\n",
       "      <th></th>\n",
       "      <th>imdb_title_id</th>\n",
       "      <th>title</th>\n",
       "      <th>year</th>\n",
       "      <th>duration</th>\n",
       "      <th>director</th>\n",
       "      <th>production_company</th>\n",
       "      <th>description</th>\n",
       "      <th>avg_vote</th>\n",
       "      <th>votes</th>\n",
       "      <th>metascore</th>\n",
       "      <th>...</th>\n",
       "      <th>Horror</th>\n",
       "      <th>Music</th>\n",
       "      <th>Musical</th>\n",
       "      <th>Mystery</th>\n",
       "      <th>Romance</th>\n",
       "      <th>Sci-Fi</th>\n",
       "      <th>Sport</th>\n",
       "      <th>Thriller</th>\n",
       "      <th>War</th>\n",
       "      <th>Western</th>\n",
       "    </tr>\n",
       "  </thead>\n",
       "  <tbody>\n",
       "    <tr>\n",
       "      <th>0</th>\n",
       "      <td>tt0060120</td>\n",
       "      <td>A sud ovest di Sonora</td>\n",
       "      <td>1966</td>\n",
       "      <td>98</td>\n",
       "      <td>Sidney J. Furie</td>\n",
       "      <td>Universal Pictures</td>\n",
       "      <td>Man tries to recover a horse stolen from him b...</td>\n",
       "      <td>6.3</td>\n",
       "      <td>2846</td>\n",
       "      <td>46.0</td>\n",
       "      <td>...</td>\n",
       "      <td>0</td>\n",
       "      <td>0</td>\n",
       "      <td>0</td>\n",
       "      <td>0</td>\n",
       "      <td>0</td>\n",
       "      <td>0</td>\n",
       "      <td>0</td>\n",
       "      <td>0</td>\n",
       "      <td>0</td>\n",
       "      <td>0</td>\n",
       "    </tr>\n",
       "    <tr>\n",
       "      <th>1</th>\n",
       "      <td>tt0060120</td>\n",
       "      <td>A sud ovest di Sonora</td>\n",
       "      <td>1966</td>\n",
       "      <td>98</td>\n",
       "      <td>Sidney J. Furie</td>\n",
       "      <td>Universal Pictures</td>\n",
       "      <td>Man tries to recover a horse stolen from him b...</td>\n",
       "      <td>6.3</td>\n",
       "      <td>2846</td>\n",
       "      <td>46.0</td>\n",
       "      <td>...</td>\n",
       "      <td>0</td>\n",
       "      <td>0</td>\n",
       "      <td>0</td>\n",
       "      <td>0</td>\n",
       "      <td>0</td>\n",
       "      <td>0</td>\n",
       "      <td>0</td>\n",
       "      <td>0</td>\n",
       "      <td>0</td>\n",
       "      <td>0</td>\n",
       "    </tr>\n",
       "    <tr>\n",
       "      <th>2</th>\n",
       "      <td>tt0060120</td>\n",
       "      <td>A sud ovest di Sonora</td>\n",
       "      <td>1966</td>\n",
       "      <td>98</td>\n",
       "      <td>Sidney J. Furie</td>\n",
       "      <td>Universal Pictures</td>\n",
       "      <td>Man tries to recover a horse stolen from him b...</td>\n",
       "      <td>6.3</td>\n",
       "      <td>2846</td>\n",
       "      <td>46.0</td>\n",
       "      <td>...</td>\n",
       "      <td>0</td>\n",
       "      <td>0</td>\n",
       "      <td>0</td>\n",
       "      <td>0</td>\n",
       "      <td>1</td>\n",
       "      <td>0</td>\n",
       "      <td>0</td>\n",
       "      <td>0</td>\n",
       "      <td>0</td>\n",
       "      <td>0</td>\n",
       "    </tr>\n",
       "  </tbody>\n",
       "</table>\n",
       "<p>3 rows × 68 columns</p>\n",
       "</div>"
      ],
      "text/plain": [
       "  imdb_title_id                  title  year  duration         director  \\\n",
       "0     tt0060120  A sud ovest di Sonora  1966        98  Sidney J. Furie   \n",
       "1     tt0060120  A sud ovest di Sonora  1966        98  Sidney J. Furie   \n",
       "2     tt0060120  A sud ovest di Sonora  1966        98  Sidney J. Furie   \n",
       "\n",
       "   production_company                                        description  \\\n",
       "0  Universal Pictures  Man tries to recover a horse stolen from him b...   \n",
       "1  Universal Pictures  Man tries to recover a horse stolen from him b...   \n",
       "2  Universal Pictures  Man tries to recover a horse stolen from him b...   \n",
       "\n",
       "   avg_vote  votes  metascore  ...  Horror  Music Musical  Mystery  Romance  \\\n",
       "0       6.3   2846       46.0  ...       0      0       0        0        0   \n",
       "1       6.3   2846       46.0  ...       0      0       0        0        0   \n",
       "2       6.3   2846       46.0  ...       0      0       0        0        1   \n",
       "\n",
       "   Sci-Fi  Sport  Thriller  War  Western  \n",
       "0       0      0         0    0        0  \n",
       "1       0      0         0    0        0  \n",
       "2       0      0         0    0        0  \n",
       "\n",
       "[3 rows x 68 columns]"
      ]
     },
     "execution_count": 14,
     "metadata": {},
     "output_type": "execute_result"
    }
   ],
   "source": [
    "df2.head(3)"
   ]
  },
  {
   "cell_type": "code",
   "execution_count": 15,
   "id": "proof-quarter",
   "metadata": {},
   "outputs": [],
   "source": [
    "df2.to_csv(\"ver.csv\", sep=\"|\")"
   ]
  },
  {
   "cell_type": "code",
   "execution_count": null,
   "id": "reflected-preference",
   "metadata": {},
   "outputs": [],
   "source": []
  }
 ],
 "metadata": {
  "kernelspec": {
   "display_name": "Python 3",
   "language": "python",
   "name": "python3"
  },
  "language_info": {
   "codemirror_mode": {
    "name": "ipython",
    "version": 3
   },
   "file_extension": ".py",
   "mimetype": "text/x-python",
   "name": "python",
   "nbconvert_exporter": "python",
   "pygments_lexer": "ipython3",
   "version": "3.7.10"
  }
 },
 "nbformat": 4,
 "nbformat_minor": 5
}
