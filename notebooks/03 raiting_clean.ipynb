{
 "cells": [
  {
   "cell_type": "code",
   "execution_count": 1,
   "id": "sought-commonwealth",
   "metadata": {},
   "outputs": [],
   "source": [
    "%config Completer.use_jedi = False"
   ]
  },
  {
   "cell_type": "code",
   "execution_count": 30,
   "id": "convenient-button",
   "metadata": {},
   "outputs": [],
   "source": [
    "import pandas as pd"
   ]
  },
  {
   "cell_type": "code",
   "execution_count": 31,
   "id": "assured-president",
   "metadata": {},
   "outputs": [],
   "source": [
    "df = pd.read_csv(\"../data/ratings.csv\")"
   ]
  },
  {
   "cell_type": "code",
   "execution_count": 32,
   "id": "special-tanzania",
   "metadata": {},
   "outputs": [],
   "source": [
    "df.drop(columns=[\"allgenders_0age_avg_vote\", \"allgenders_0age_votes\", \"males_0age_avg_vote\", \"males_0age_votes\", \"females_0age_avg_vote\", \"females_0age_votes\", \"top1000_voters_rating\",\n",
    "                 \"top1000_voters_votes\", \"us_voters_rating\", \"us_voters_votes\", \"non_us_voters_rating\", \"non_us_voters_votes\"], inplace=True)"
   ]
  },
  {
   "cell_type": "code",
   "execution_count": 33,
   "id": "initial-america",
   "metadata": {},
   "outputs": [
    {
     "data": {
      "text/plain": [
       "imdb_title_id                   0\n",
       "weighted_average_vote           0\n",
       "total_votes                     0\n",
       "mean_vote                       0\n",
       "median_vote                     0\n",
       "votes_10                        0\n",
       "votes_9                         0\n",
       "votes_8                         0\n",
       "votes_7                         0\n",
       "votes_6                         0\n",
       "votes_5                         0\n",
       "votes_4                         0\n",
       "votes_3                         0\n",
       "votes_2                         0\n",
       "votes_1                         0\n",
       "allgenders_18age_avg_vote     706\n",
       "allgenders_18age_votes        706\n",
       "allgenders_30age_avg_vote      10\n",
       "allgenders_30age_votes         10\n",
       "allgenders_45age_avg_vote      80\n",
       "allgenders_45age_votes         80\n",
       "males_allages_avg_vote          1\n",
       "males_allages_votes             1\n",
       "males_18age_avg_vote         1465\n",
       "males_18age_votes            1465\n",
       "males_30age_avg_vote           12\n",
       "males_30age_votes              12\n",
       "males_45age_avg_vote          101\n",
       "males_45age_votes             101\n",
       "females_allages_avg_vote       81\n",
       "females_allages_votes          81\n",
       "females_18age_avg_vote       6521\n",
       "females_18age_votes          6521\n",
       "females_30age_avg_vote        944\n",
       "females_30age_votes           944\n",
       "females_45age_avg_vote       2798\n",
       "females_45age_votes          2798\n",
       "dtype: int64"
      ]
     },
     "execution_count": 33,
     "metadata": {},
     "output_type": "execute_result"
    }
   ],
   "source": [
    "df.isnull().sum()"
   ]
  },
  {
   "cell_type": "code",
   "execution_count": 6,
   "id": "starting-driver",
   "metadata": {},
   "outputs": [
    {
     "data": {
      "text/plain": [
       "imdb_title_id                   0\n",
       "weighted_average_vote           0\n",
       "total_votes                     0\n",
       "mean_vote                       0\n",
       "median_vote                     0\n",
       "votes_10                        0\n",
       "votes_9                         0\n",
       "votes_8                         0\n",
       "votes_7                         0\n",
       "votes_6                         0\n",
       "votes_5                         0\n",
       "votes_4                         0\n",
       "votes_3                         0\n",
       "votes_2                         0\n",
       "votes_1                         0\n",
       "allgenders_18age_avg_vote     706\n",
       "allgenders_18age_votes        706\n",
       "allgenders_30age_avg_vote      10\n",
       "allgenders_30age_votes         10\n",
       "allgenders_45age_avg_vote      80\n",
       "allgenders_45age_votes         80\n",
       "males_allages_avg_vote          1\n",
       "males_allages_votes             1\n",
       "males_18age_avg_vote         1465\n",
       "males_18age_votes            1465\n",
       "males_30age_avg_vote           12\n",
       "males_30age_votes              12\n",
       "males_45age_avg_vote          101\n",
       "males_45age_votes             101\n",
       "females_allages_avg_vote       81\n",
       "females_allages_votes          81\n",
       "females_18age_avg_vote       6521\n",
       "females_18age_votes          6521\n",
       "females_30age_avg_vote        944\n",
       "females_30age_votes           944\n",
       "females_45age_avg_vote       2798\n",
       "females_45age_votes          2798\n",
       "dtype: int64"
      ]
     },
     "execution_count": 6,
     "metadata": {},
     "output_type": "execute_result"
    }
   ],
   "source": [
    "df.isnull().sum()"
   ]
  },
  {
   "cell_type": "code",
   "execution_count": 34,
   "id": "absent-windows",
   "metadata": {},
   "outputs": [],
   "source": [
    "df2 = df.fillna(df.mean())"
   ]
  },
  {
   "cell_type": "code",
   "execution_count": 36,
   "id": "accessory-welsh",
   "metadata": {},
   "outputs": [
    {
     "data": {
      "text/html": [
       "<div>\n",
       "<style scoped>\n",
       "    .dataframe tbody tr th:only-of-type {\n",
       "        vertical-align: middle;\n",
       "    }\n",
       "\n",
       "    .dataframe tbody tr th {\n",
       "        vertical-align: top;\n",
       "    }\n",
       "\n",
       "    .dataframe thead th {\n",
       "        text-align: right;\n",
       "    }\n",
       "</style>\n",
       "<table border=\"1\" class=\"dataframe\">\n",
       "  <thead>\n",
       "    <tr style=\"text-align: right;\">\n",
       "      <th></th>\n",
       "      <th>imdb_title_id</th>\n",
       "      <th>weighted_average_vote</th>\n",
       "      <th>total_votes</th>\n",
       "      <th>mean_vote</th>\n",
       "      <th>median_vote</th>\n",
       "      <th>votes_10</th>\n",
       "      <th>votes_9</th>\n",
       "      <th>votes_8</th>\n",
       "      <th>votes_7</th>\n",
       "      <th>votes_6</th>\n",
       "      <th>...</th>\n",
       "      <th>males_45age_avg_vote</th>\n",
       "      <th>males_45age_votes</th>\n",
       "      <th>females_allages_avg_vote</th>\n",
       "      <th>females_allages_votes</th>\n",
       "      <th>females_18age_avg_vote</th>\n",
       "      <th>females_18age_votes</th>\n",
       "      <th>females_30age_avg_vote</th>\n",
       "      <th>females_30age_votes</th>\n",
       "      <th>females_45age_avg_vote</th>\n",
       "      <th>females_45age_votes</th>\n",
       "    </tr>\n",
       "  </thead>\n",
       "  <tbody>\n",
       "    <tr>\n",
       "      <th>0</th>\n",
       "      <td>tt0000009</td>\n",
       "      <td>5.9</td>\n",
       "      <td>154</td>\n",
       "      <td>5.9</td>\n",
       "      <td>6.0</td>\n",
       "      <td>12</td>\n",
       "      <td>4</td>\n",
       "      <td>10</td>\n",
       "      <td>43</td>\n",
       "      <td>28</td>\n",
       "      <td>...</td>\n",
       "      <td>6.7</td>\n",
       "      <td>31.0</td>\n",
       "      <td>6.0</td>\n",
       "      <td>35.0</td>\n",
       "      <td>5.9</td>\n",
       "      <td>14.0</td>\n",
       "      <td>5.7</td>\n",
       "      <td>13.0</td>\n",
       "      <td>4.5</td>\n",
       "      <td>4.0</td>\n",
       "    </tr>\n",
       "    <tr>\n",
       "      <th>1</th>\n",
       "      <td>tt0000574</td>\n",
       "      <td>6.1</td>\n",
       "      <td>589</td>\n",
       "      <td>6.3</td>\n",
       "      <td>6.0</td>\n",
       "      <td>57</td>\n",
       "      <td>18</td>\n",
       "      <td>58</td>\n",
       "      <td>137</td>\n",
       "      <td>139</td>\n",
       "      <td>...</td>\n",
       "      <td>6.2</td>\n",
       "      <td>100.0</td>\n",
       "      <td>6.2</td>\n",
       "      <td>50.0</td>\n",
       "      <td>5.9</td>\n",
       "      <td>12.0</td>\n",
       "      <td>6.2</td>\n",
       "      <td>23.0</td>\n",
       "      <td>6.6</td>\n",
       "      <td>14.0</td>\n",
       "    </tr>\n",
       "    <tr>\n",
       "      <th>2</th>\n",
       "      <td>tt0001892</td>\n",
       "      <td>5.8</td>\n",
       "      <td>188</td>\n",
       "      <td>6.0</td>\n",
       "      <td>6.0</td>\n",
       "      <td>6</td>\n",
       "      <td>6</td>\n",
       "      <td>17</td>\n",
       "      <td>44</td>\n",
       "      <td>52</td>\n",
       "      <td>...</td>\n",
       "      <td>6.2</td>\n",
       "      <td>55.0</td>\n",
       "      <td>5.7</td>\n",
       "      <td>15.0</td>\n",
       "      <td>5.8</td>\n",
       "      <td>4.0</td>\n",
       "      <td>5.8</td>\n",
       "      <td>4.0</td>\n",
       "      <td>6.8</td>\n",
       "      <td>7.0</td>\n",
       "    </tr>\n",
       "  </tbody>\n",
       "</table>\n",
       "<p>3 rows × 37 columns</p>\n",
       "</div>"
      ],
      "text/plain": [
       "  imdb_title_id  weighted_average_vote  total_votes  mean_vote  median_vote  \\\n",
       "0     tt0000009                    5.9          154        5.9          6.0   \n",
       "1     tt0000574                    6.1          589        6.3          6.0   \n",
       "2     tt0001892                    5.8          188        6.0          6.0   \n",
       "\n",
       "   votes_10  votes_9  votes_8  votes_7  votes_6  ...  males_45age_avg_vote  \\\n",
       "0        12        4       10       43       28  ...                   6.7   \n",
       "1        57       18       58      137      139  ...                   6.2   \n",
       "2         6        6       17       44       52  ...                   6.2   \n",
       "\n",
       "   males_45age_votes  females_allages_avg_vote  females_allages_votes  \\\n",
       "0               31.0                       6.0                   35.0   \n",
       "1              100.0                       6.2                   50.0   \n",
       "2               55.0                       5.7                   15.0   \n",
       "\n",
       "   females_18age_avg_vote  females_18age_votes  females_30age_avg_vote  \\\n",
       "0                     5.9                 14.0                     5.7   \n",
       "1                     5.9                 12.0                     6.2   \n",
       "2                     5.8                  4.0                     5.8   \n",
       "\n",
       "   females_30age_votes  females_45age_avg_vote  females_45age_votes  \n",
       "0                 13.0                     4.5                  4.0  \n",
       "1                 23.0                     6.6                 14.0  \n",
       "2                  4.0                     6.8                  7.0  \n",
       "\n",
       "[3 rows x 37 columns]"
      ]
     },
     "execution_count": 36,
     "metadata": {},
     "output_type": "execute_result"
    }
   ],
   "source": [
    "df2.head(3)"
   ]
  },
  {
   "cell_type": "code",
   "execution_count": 39,
   "id": "interior-envelope",
   "metadata": {},
   "outputs": [],
   "source": [
    "df.to_csv(\"rating2\", sep=\"|\")"
   ]
  },
  {
   "cell_type": "code",
   "execution_count": null,
   "id": "experienced-alloy",
   "metadata": {},
   "outputs": [],
   "source": []
  }
 ],
 "metadata": {
  "kernelspec": {
   "display_name": "Python 3",
   "language": "python",
   "name": "python3"
  },
  "language_info": {
   "codemirror_mode": {
    "name": "ipython",
    "version": 3
   },
   "file_extension": ".py",
   "mimetype": "text/x-python",
   "name": "python",
   "nbconvert_exporter": "python",
   "pygments_lexer": "ipython3",
   "version": "3.7.10"
  }
 },
 "nbformat": 4,
 "nbformat_minor": 5
}
